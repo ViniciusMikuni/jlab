{
 "cells": [
  {
   "cell_type": "code",
   "execution_count": 1,
   "id": "02480682-1e96-4028-bd7f-ddad6b447e3e",
   "metadata": {
    "tags": []
   },
   "outputs": [],
   "source": [
    "import os\n",
    "from IPython.display import Image\n",
    "from tensorflow import keras\n",
    "from keras import layers\n",
    "\n",
    "import tensorflow as tf\n",
    "import gymnasium as gym\n",
    "import numpy as np\n",
    "import matplotlib.pyplot as plt\n",
    "import imageio\n",
    "from utils import *"
   ]
  },
  {
   "cell_type": "code",
   "execution_count": 2,
   "id": "00921b79-3ab8-4707-b775-cb6da9a74ce4",
   "metadata": {},
   "outputs": [],
   "source": [
    "#!pip install \"gymnasium[classic_control]\""
   ]
  },
  {
   "cell_type": "code",
   "execution_count": 3,
   "id": "c1543bc6-8f3a-4606-b13a-54a7396ed360",
   "metadata": {
    "tags": []
   },
   "outputs": [
    {
     "name": "stdout",
     "output_type": "stream",
     "text": [
      "Size of State Space ->  3, represented by the x, y, and angular velocity\n",
      "Size of Action Space ->  1, represented by the torque\n",
      "Max Value of Action ->  2.0\n",
      "Min Value of Action ->  -2.0\n"
     ]
    }
   ],
   "source": [
    "env = gym.make(\"Pendulum-v1\" , render_mode=\"rgb_array\", g=9.81)\n",
    "\n",
    "num_states = env.observation_space.shape[0]\n",
    "print(\"Size of State Space ->  {}, represented by the x, y, and angular velocity\".format(num_states))\n",
    "num_actions = env.action_space.shape[0]\n",
    "print(\"Size of Action Space ->  {}, represented by the torque\".format(num_actions))\n",
    "\n",
    "upper_bound = env.action_space.high[0]\n",
    "lower_bound = env.action_space.low[0]\n",
    "\n",
    "print(\"Max Value of Action ->  {}\".format(upper_bound))\n",
    "print(\"Min Value of Action ->  {}\".format(lower_bound))\n"
   ]
  },
  {
   "cell_type": "code",
   "execution_count": 4,
   "id": "f21364bd-0219-47fa-8a97-af536375913e",
   "metadata": {},
   "outputs": [
    {
     "name": "stderr",
     "output_type": "stream",
     "text": [
      "error: XDG_RUNTIME_DIR is invalid or not set in the environment.\n"
     ]
    }
   ],
   "source": [
    "frames = []\n",
    "state = env.reset()\n",
    "for _ in range(200):  # Number of steps to simulate\n",
    "    # Render the environment and collect the frame\n",
    "    frame = env.render()\n",
    "    frames.append(frame)\n",
    "\n",
    "    # Take random actions\n",
    "    action = env.action_space.sample()\n",
    "    state, reward, done, truncated, info = env.step(action)\n",
    "imageio.mimsave('initial_state.gif', frames, fps=30,loop=0) "
   ]
  },
  {
   "cell_type": "markdown",
   "id": "549e6ad2-b892-4ce2-857e-dbb96d5edb46",
   "metadata": {
    "tags": []
   },
   "source": [
    "![Initial state](initial_state.gif)"
   ]
  },
  {
   "cell_type": "markdown",
   "id": "0d813f55-e242-47ae-90a3-d44d49140dca",
   "metadata": {},
   "source": [
    "# Let's build the noise injection and the actor and critic models!"
   ]
  },
  {
   "cell_type": "code",
   "execution_count": 5,
   "id": "07b6fd80-9e6f-49d3-a142-4cc98c4c41ba",
   "metadata": {
    "tags": []
   },
   "outputs": [],
   "source": [
    "std_dev = 0.1 #standard deviation for the stochastic noise added to actions\n",
    "ou_noise = OUActionNoise(mean=np.zeros(1), std_deviation=float(std_dev) * np.ones(1))\n",
    "#ou_noise = GaussianActionNoise(mean=np.zeros(1), std_deviation=float(std_dev) * np.ones(1))\n",
    "actor_model = get_actor(num_states)\n",
    "critic_model = get_critic(num_states,num_actions)\n",
    "\n",
    "#Slow updating models to improve stability\n",
    "target_actor = get_actor(num_states)\n",
    "target_critic = get_critic(num_states,num_actions)\n",
    "\n",
    "# Making the weights equal initially\n",
    "target_actor.set_weights(actor_model.get_weights())\n",
    "target_critic.set_weights(critic_model.get_weights())\n",
    "\n",
    "# Learning rate for actor-critic models\n",
    "critic_lr = 0.002\n",
    "actor_lr = 0.001\n",
    "\n",
    "total_episodes = 100\n",
    "# Discount factor for future rewards\n",
    "gamma = 0.99\n",
    "# Used to update target networks\n",
    "tau = 0.005\n",
    "\n",
    "buffer = RLTrainer(actor_model,critic_model,target_actor,target_critic,\n",
    "                   num_states,num_actions,\n",
    "                   gamma,tau, \n",
    "                   buffer_capacity = 50000, \n",
    "                   batch_size = 64,\n",
    "                   critic_lr = critic_lr,\n",
    "                   actor_lr = actor_lr,\n",
    "                  )"
   ]
  },
  {
   "cell_type": "code",
   "execution_count": 6,
   "id": "4144c517-8753-4809-85db-6ba346c337d3",
   "metadata": {
    "tags": []
   },
   "outputs": [],
   "source": [
    "# To store reward history of each episode\n",
    "ep_reward_list = []\n",
    "# To store average reward history of last few episodes\n",
    "avg_reward_list = []\n",
    "#Reward defined as r = -(theta^2 + 0.1 * theta_dt^2 + 0.001 * torque^2)"
   ]
  },
  {
   "cell_type": "code",
   "execution_count": 7,
   "id": "a559fc34-b569-4f90-8a9b-07c8c8b4d06f",
   "metadata": {
    "tags": []
   },
   "outputs": [
    {
     "name": "stdout",
     "output_type": "stream",
     "text": [
      "Episode * 0 * Avg Reward is ==> -1132.2905824296015\n",
      "Episode * 1 * Avg Reward is ==> -1262.3911496972094\n",
      "Episode * 2 * Avg Reward is ==> -1204.341337657914\n",
      "Episode * 3 * Avg Reward is ==> -1348.580438416167\n",
      "Episode * 4 * Avg Reward is ==> -1259.5740289059063\n",
      "Episode * 5 * Avg Reward is ==> -1342.2796947806075\n",
      "Episode * 6 * Avg Reward is ==> -1338.9508502429665\n",
      "Episode * 7 * Avg Reward is ==> -1369.9203766287228\n",
      "Episode * 8 * Avg Reward is ==> -1362.3441322160559\n",
      "Episode * 9 * Avg Reward is ==> -1361.7780058368662\n",
      "Episode * 10 * Avg Reward is ==> -1309.7287338590652\n",
      "Episode * 11 * Avg Reward is ==> -1273.2716723152134\n",
      "Episode * 12 * Avg Reward is ==> -1237.0828643859516\n",
      "Episode * 13 * Avg Reward is ==> -1223.4085752307926\n",
      "Episode * 14 * Avg Reward is ==> -1177.0550307022202\n",
      "Episode * 15 * Avg Reward is ==> -1136.0567319241416\n",
      "Episode * 16 * Avg Reward is ==> -1099.5475926011832\n",
      "Episode * 17 * Avg Reward is ==> -1067.139999676374\n",
      "Episode * 18 * Avg Reward is ==> -1017.9206818091768\n",
      "Episode * 19 * Avg Reward is ==> -979.1772332882435\n",
      "Episode * 20 * Avg Reward is ==> -950.2483888548498\n",
      "Episode * 21 * Avg Reward is ==> -918.8715600041025\n",
      "Episode * 22 * Avg Reward is ==> -889.9354614149983\n",
      "Episode * 23 * Avg Reward is ==> -863.1209675289384\n",
      "Episode * 24 * Avg Reward is ==> -828.6723196735471\n",
      "Episode * 25 * Avg Reward is ==> -810.988626439417\n",
      "Episode * 26 * Avg Reward is ==> -785.3162399395577\n",
      "Episode * 27 * Avg Reward is ==> -761.5150366299938\n",
      "Episode * 28 * Avg Reward is ==> -739.6952021434088\n",
      "Episode * 29 * Avg Reward is ==> -722.5731431569691\n",
      "Episode * 30 * Avg Reward is ==> -703.5859094306996\n",
      "Episode * 31 * Avg Reward is ==> -685.5379743378293\n",
      "Episode * 32 * Avg Reward is ==> -671.7903201625834\n",
      "Episode * 33 * Avg Reward is ==> -655.7863943072488\n",
      "Episode * 34 * Avg Reward is ==> -637.1175949903209\n",
      "Episode * 35 * Avg Reward is ==> -619.482479695193\n",
      "Episode * 36 * Avg Reward is ==> -605.9070948675774\n",
      "Episode * 37 * Avg Reward is ==> -596.0521405265848\n",
      "Episode * 38 * Avg Reward is ==> -588.4738006867537\n",
      "Episode * 39 * Avg Reward is ==> -579.9981677097245\n",
      "Episode * 40 * Avg Reward is ==> -560.088599635654\n",
      "Episode * 41 * Avg Reward is ==> -525.3438908348514\n",
      "Episode * 42 * Avg Reward is ==> -501.0803385417087\n",
      "Episode * 43 * Avg Reward is ==> -462.13028695007205\n",
      "Episode * 44 * Avg Reward is ==> -442.6774630500613\n",
      "Episode * 45 * Avg Reward is ==> -404.42667157562045\n",
      "Episode * 46 * Avg Reward is ==> -374.5581868657825\n",
      "Episode * 47 * Avg Reward is ==> -337.8999809570261\n",
      "Episode * 48 * Avg Reward is ==> -311.60313202651093\n",
      "Episode * 49 * Avg Reward is ==> -280.7877594447488\n",
      "Episode * 50 * Avg Reward is ==> -266.7638205720869\n",
      "Episode * 51 * Avg Reward is ==> -250.41686233035202\n",
      "Episode * 52 * Avg Reward is ==> -233.52888841684407\n",
      "Episode * 53 * Avg Reward is ==> -212.95954492474067\n",
      "Episode * 54 * Avg Reward is ==> -202.9725738406591\n",
      "Episode * 55 * Avg Reward is ==> -192.97817371884025\n",
      "Episode * 56 * Avg Reward is ==> -183.20917994475786\n",
      "Episode * 57 * Avg Reward is ==> -173.42052310487048\n",
      "Episode * 58 * Avg Reward is ==> -173.08455485147925\n",
      "Episode * 59 * Avg Reward is ==> -175.43273589730217\n",
      "Episode * 60 * Avg Reward is ==> -172.24368336279753\n",
      "Episode * 61 * Avg Reward is ==> -165.7726208915755\n",
      "Episode * 62 * Avg Reward is ==> -162.58621569298646\n",
      "Episode * 63 * Avg Reward is ==> -162.39232070923998\n",
      "Episode * 64 * Avg Reward is ==> -168.1412999223136\n",
      "Episode * 65 * Avg Reward is ==> -164.7850844331002\n",
      "Episode * 66 * Avg Reward is ==> -167.65577696872361\n",
      "Episode * 67 * Avg Reward is ==> -167.90049079117298\n",
      "Episode * 68 * Avg Reward is ==> -167.93960067825859\n",
      "Episode * 69 * Avg Reward is ==> -168.26603549132074\n",
      "Episode * 70 * Avg Reward is ==> -170.9248861026932\n",
      "Episode * 71 * Avg Reward is ==> -171.01178786990516\n",
      "Episode * 72 * Avg Reward is ==> -168.47320185599511\n",
      "Episode * 73 * Avg Reward is ==> -173.65895545863324\n",
      "Episode * 74 * Avg Reward is ==> -176.96788099121528\n",
      "Episode * 75 * Avg Reward is ==> -179.83026114309692\n",
      "Episode * 76 * Avg Reward is ==> -182.6927721287061\n",
      "Episode * 77 * Avg Reward is ==> -185.2717729369004\n",
      "Episode * 78 * Avg Reward is ==> -181.00676870496346\n",
      "Episode * 79 * Avg Reward is ==> -180.439001997805\n",
      "Episode * 80 * Avg Reward is ==> -180.4717447818376\n",
      "Episode * 81 * Avg Reward is ==> -186.54388980277113\n",
      "Episode * 82 * Avg Reward is ==> -183.69565911419585\n",
      "Episode * 83 * Avg Reward is ==> -181.22867936890583\n",
      "Episode * 84 * Avg Reward is ==> -181.2993023107681\n",
      "Episode * 85 * Avg Reward is ==> -178.82266939993485\n",
      "Episode * 86 * Avg Reward is ==> -178.93124788202107\n",
      "Episode * 87 * Avg Reward is ==> -182.5350842454196\n",
      "Episode * 88 * Avg Reward is ==> -176.38652764135634\n",
      "Episode * 89 * Avg Reward is ==> -180.67483266059543\n",
      "Episode * 90 * Avg Reward is ==> -175.05043918625614\n",
      "Episode * 91 * Avg Reward is ==> -172.53401604509\n",
      "Episode * 92 * Avg Reward is ==> -177.90060430669564\n",
      "Episode * 93 * Avg Reward is ==> -178.2838630423482\n",
      "Episode * 94 * Avg Reward is ==> -181.19784942814593\n",
      "Episode * 95 * Avg Reward is ==> -187.4850730358619\n",
      "Episode * 96 * Avg Reward is ==> -187.6267340437442\n",
      "Episode * 97 * Avg Reward is ==> -187.5019820114492\n",
      "Episode * 98 * Avg Reward is ==> -190.5745979034444\n",
      "Episode * 99 * Avg Reward is ==> -185.3322205307748\n"
     ]
    }
   ],
   "source": [
    "for ep in range(total_episodes):\n",
    "    prev_state, _ = env.reset()\n",
    "    episodic_reward = 0\n",
    "\n",
    "    while True:\n",
    "        tf_prev_state = tf.expand_dims(\n",
    "            tf.convert_to_tensor(prev_state), 0\n",
    "        )\n",
    "\n",
    "        action = policy(tf_prev_state, ou_noise,actor_model)\n",
    "        # Receive state and reward from environment.\n",
    "        state, reward, done, truncated, _ = env.step(action)\n",
    "\n",
    "        buffer.record((prev_state, action, reward, state))\n",
    "        episodic_reward += reward\n",
    "\n",
    "        buffer.learn()\n",
    "\n",
    "        update_target(target_actor, actor_model, tau)\n",
    "        update_target(target_critic, critic_model, tau)\n",
    "\n",
    "        # End this episode when `done` or `truncated` is True\n",
    "        if done or truncated:\n",
    "            break\n",
    "\n",
    "        prev_state = state\n",
    "\n",
    "    ep_reward_list.append(episodic_reward)\n",
    "\n",
    "    # Mean of last 40 episodes\n",
    "    avg_reward = np.mean(ep_reward_list[-40:])\n",
    "    print(\"Episode * {} * Avg Reward is ==> {}\".format(ep, avg_reward))\n",
    "    avg_reward_list.append(avg_reward)"
   ]
  },
  {
   "cell_type": "code",
   "execution_count": 8,
   "id": "2a3d962e-df8b-4c3c-8ae9-c6570aa1cdb0",
   "metadata": {
    "tags": []
   },
   "outputs": [
    {
     "data": {
      "image/png": "[encoded data removed]",
      "text/plain": [
       "<Figure size 640x480 with 1 Axes>"
      ]
     },
     "metadata": {},
     "output_type": "display_data"
    }
   ],
   "source": [
    "# Plotting graph\n",
    "# Episodes versus Avg. Rewards\n",
    "plt.plot(avg_reward_list)\n",
    "plt.xlabel(\"Episode\")\n",
    "plt.ylabel(\"Avg. Episodic Reward\")\n",
    "plt.show()"
   ]
  },
  {
   "cell_type": "code",
   "execution_count": 9,
   "id": "034d3e72-9a1e-496e-a92a-d7288faaf9a8",
   "metadata": {
    "tags": []
   },
   "outputs": [],
   "source": [
    "frames = []\n",
    "state, _ = env.reset()\n",
    "state = np.expand_dims(state, axis=0)\n",
    "for _ in range(200):  # Number of steps to simulate\n",
    "    # Render the environment and collect the frame\n",
    "    frame = env.render()\n",
    "    frames.append(frame)\n",
    "    \n",
    "    action = actor_model.predict(state, verbose=0)  # Replace with your model's predict function\n",
    "    action = action[0] \n",
    "\n",
    "    next_state, reward, done, truncated, info = env.step(action)\n",
    "    state = np.expand_dims(next_state, axis=0)  # Update state\n",
    "\n",
    "imageio.mimsave('trained_state.gif', frames, fps=30,loop=0) "
   ]
  },
  {
   "cell_type": "markdown",
   "id": "bbb4e391-9bfe-443a-86bb-9ec7c678b5a8",
   "metadata": {
    "tags": []
   },
   "source": [
    "![Final state](trained_state.gif)"
   ]
  },
  {
   "cell_type": "code",
   "execution_count": null,
   "id": "d3eb95c8-c1d8-4edb-9b12-4d09eebac34d",
   "metadata": {},
   "outputs": [],
   "source": []
  }
 ],
 "metadata": {
  "kernelspec": {
   "display_name": "tensorflow-2.9.0",
   "language": "python",
   "name": "tensorflow-2.9.0"
  },
  "language_info": {
   "codemirror_mode": {
    "name": "ipython",
    "version": 3
   },
   "file_extension": ".py",
   "mimetype": "text/x-python",
   "name": "python",
   "nbconvert_exporter": "python",
   "pygments_lexer": "ipython3",
   "version": "3.9.19"
  }
 },
 "nbformat": 4,
 "nbformat_minor": 5
}
